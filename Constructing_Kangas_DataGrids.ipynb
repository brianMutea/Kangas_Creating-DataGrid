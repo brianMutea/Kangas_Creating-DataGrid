{
  "nbformat": 4,
  "nbformat_minor": 0,
  "metadata": {
    "colab": {
      "provenance": [],
      "authorship_tag": "ABX9TyOWQgMA7DOa7VhTtoysG8J8",
      "include_colab_link": true
    },
    "kernelspec": {
      "name": "python3",
      "display_name": "Python 3"
    },
    "language_info": {
      "name": "python"
    }
  },
  "cells": [
    {
      "cell_type": "markdown",
      "metadata": {
        "id": "view-in-github",
        "colab_type": "text"
      },
      "source": [
        "<a href=\"https://colab.research.google.com/github/brianMutea/Kangas_Creating-DataGrid/blob/main/Constructing_Kangas_DataGrids.ipynb\" target=\"_parent\"><img src=\"https://colab.research.google.com/assets/colab-badge.svg\" alt=\"Open In Colab\"/></a>"
      ]
    },
    {
      "cell_type": "markdown",
      "source": [
        "# Kangas DataGrids\n",
        "\n",
        "Kangas is an open-source project geared towards redefining how we explore and visualize our data while making it extremely easy to explore these huge datasets.\n",
        "\n",
        "Kangas uses DataGrids, which are actual SQLite databases. This means that with Kangas, our data (a DataGrid) is stored in a database giving it the power to store huge amounts of data and perform complex queries quickly. An interactive User Interface also comes with it that enables visualizing these data"
      ],
      "metadata": {
        "id": "l-eGkbqxSGVo"
      }
    },
    {
      "cell_type": "code",
      "source": [
        "# download Kangas with pip\n",
        "%pip install kangas"
      ],
      "metadata": {
        "id": "AUR7jj0LErA3",
        "colab": {
          "base_uri": "https://localhost:8080/"
        },
        "outputId": "49bc3b95-4fe0-4fdc-c0f8-5089c9c6496c"
      },
      "execution_count": 1,
      "outputs": [
        {
          "output_type": "stream",
          "name": "stdout",
          "text": [
            "Looking in indexes: https://pypi.org/simple, https://us-python.pkg.dev/colab-wheels/public/simple/\n",
            "Requirement already satisfied: kangas in /usr/local/lib/python3.8/dist-packages (1.3.4)\n",
            "Requirement already satisfied: requests in /usr/local/lib/python3.8/dist-packages (from kangas) (2.25.1)\n",
            "Requirement already satisfied: scipy in /usr/local/lib/python3.8/dist-packages (from kangas) (1.7.3)\n",
            "Requirement already satisfied: psutil in /usr/local/lib/python3.8/dist-packages (from kangas) (5.4.8)\n",
            "Requirement already satisfied: numpy in /usr/local/lib/python3.8/dist-packages (from kangas) (1.22.4)\n",
            "Requirement already satisfied: Pillow in /usr/local/lib/python3.8/dist-packages (from kangas) (7.1.2)\n",
            "Requirement already satisfied: nodejs-bin==16.15.1a4 in /usr/local/lib/python3.8/dist-packages (from kangas) (16.15.1a4)\n",
            "Requirement already satisfied: matplotlib in /usr/local/lib/python3.8/dist-packages (from kangas) (3.2.2)\n",
            "Requirement already satisfied: tornado in /usr/local/lib/python3.8/dist-packages (from kangas) (6.2)\n",
            "Requirement already satisfied: astor in /usr/local/lib/python3.8/dist-packages (from kangas) (0.8.1)\n",
            "Requirement already satisfied: tqdm in /usr/local/lib/python3.8/dist-packages (from kangas) (4.64.1)\n",
            "Requirement already satisfied: cycler>=0.10 in /usr/local/lib/python3.8/dist-packages (from matplotlib->kangas) (0.11.0)\n",
            "Requirement already satisfied: pyparsing!=2.0.4,!=2.1.2,!=2.1.6,>=2.0.1 in /usr/local/lib/python3.8/dist-packages (from matplotlib->kangas) (3.0.9)\n",
            "Requirement already satisfied: python-dateutil>=2.1 in /usr/local/lib/python3.8/dist-packages (from matplotlib->kangas) (2.8.2)\n",
            "Requirement already satisfied: kiwisolver>=1.0.1 in /usr/local/lib/python3.8/dist-packages (from matplotlib->kangas) (1.4.4)\n",
            "Requirement already satisfied: chardet<5,>=3.0.2 in /usr/local/lib/python3.8/dist-packages (from requests->kangas) (4.0.0)\n",
            "Requirement already satisfied: urllib3<1.27,>=1.21.1 in /usr/local/lib/python3.8/dist-packages (from requests->kangas) (1.24.3)\n",
            "Requirement already satisfied: certifi>=2017.4.17 in /usr/local/lib/python3.8/dist-packages (from requests->kangas) (2022.12.7)\n",
            "Requirement already satisfied: idna<3,>=2.5 in /usr/local/lib/python3.8/dist-packages (from requests->kangas) (2.10)\n",
            "Requirement already satisfied: six>=1.5 in /usr/local/lib/python3.8/dist-packages (from python-dateutil>=2.1->matplotlib->kangas) (1.15.0)\n"
          ]
        }
      ]
    },
    {
      "cell_type": "code",
      "source": [
        "# Some imports\n",
        "import numpy as np\n",
        "import pandas as pd\n",
        "import matplotlib.pyplot as plt\n",
        "\n",
        "# import Kangas\n",
        "import kangas as kg\n",
        "from kangas import DataGrid\n"
      ],
      "metadata": {
        "id": "7eDmgRUU0agK"
      },
      "execution_count": 2,
      "outputs": []
    },
    {
      "cell_type": "markdown",
      "source": [
        "# Constructing an empty DataGrid"
      ],
      "metadata": {
        "id": "rfEagks-GMh6"
      }
    },
    {
      "cell_type": "markdown",
      "source": [
        "When we create a DataGrid we have the following attributes that we can pass:\n",
        "\n",
        "`DataGrid(data=None,\n",
        "             columns=None,\n",
        "             name=\"Untitled\",\n",
        "             datetime_format=\"%Y/%m/%d\",\n",
        "             heuristics=False,\n",
        "             converters=None)`"
      ],
      "metadata": {
        "id": "9iklYdC4GXoi"
      }
    },
    {
      "cell_type": "code",
      "source": [
        "dg = DataGrid(name='startups', columns=['R&D Spending', 'Administration', 'Marketing Spend', 'State', 'Profit'])\n",
        "# dg.save() !! do not yet"
      ],
      "metadata": {
        "id": "3zrQ-U8ZGLBr"
      },
      "execution_count": 3,
      "outputs": []
    },
    {
      "cell_type": "code",
      "source": [
        "dg.info()"
      ],
      "metadata": {
        "colab": {
          "base_uri": "https://localhost:8080/"
        },
        "id": "JTdl8KZRv7aq",
        "outputId": "4b59c606-c7d5-4fbe-833e-b9b5382c1297"
      },
      "execution_count": 4,
      "outputs": [
        {
          "output_type": "stream",
          "name": "stdout",
          "text": [
            "DataGrid (in memory)\n",
            "    Name   : startups\n",
            "    Rows   : 0\n",
            "    Columns: 5\n",
            "#   Column                Non-Null Count DataGrid Type       \n",
            "--- -------------------- --------------- --------------------\n",
            "1   R&D Spending                       0 None                \n",
            "2   Administration                     0 None                \n",
            "3   Marketing Spend                    0 None                \n",
            "4   State                              0 None                \n",
            "5   Profit                             0 None                \n"
          ]
        }
      ]
    },
    {
      "cell_type": "markdown",
      "source": [
        "##Adding Data"
      ],
      "metadata": {
        "id": "KwfwTzMlwBU1"
      }
    },
    {
      "cell_type": "code",
      "source": [
        "# def get_all_columns(data):\n",
        "#   columns = []\n",
        "#   column_list = [columns.append(column) for column in data.columns]\n",
        "#   column_list = list(columns)\n",
        "\n",
        "#   return column_list\n"
      ],
      "metadata": {
        "id": "ChhBFAyEPrmp"
      },
      "execution_count": 5,
      "outputs": []
    },
    {
      "cell_type": "markdown",
      "source": [
        "I have Pre-typed these lists to avoid too much struggle typing:)"
      ],
      "metadata": {
        "id": "k8rvZy3YSlw0"
      }
    },
    {
      "cell_type": "code",
      "source": [
        "row_1 = [165349.2, 136897.8, 471784.1, 'New York', 192261.83]\n",
        "row_2 = [162597.7, 151377.59, 443898.53, 'California', 191792.06]\n",
        "row_3 = [153441.51, 101145.55, 407934.54, 'Florida', 191050.39]\n",
        "row_4 = [144372.41, 118671.85, 383199.62, 'New York', 182901.99]\n",
        "row_5 = [142107.34, 91391.77, 366168.42, 'Florida', 166187.94]\n",
        "\n",
        "# [165349.2, 136897.8, 471784.1, 'New York', 192261.83]\n",
        "# [162597.7, 151377.59, 443898.53, 'California', 191792.06]\n",
        "# [153441.51, 101145.55, 407934.54, 'Florida', 191050.39]\n",
        "# [144372.41, 118671.85, 383199.62, 'New York', 182901.99]\n",
        "# [142107.34, 91391.77, 366168.42, 'Florida', 166187.94]"
      ],
      "metadata": {
        "id": "jnvWbmo-KKgR"
      },
      "execution_count": 6,
      "outputs": []
    },
    {
      "cell_type": "markdown",
      "source": [
        "Kangas provides two methods we can add data with. It is also easier to use these methods with in-memory DataGrids.\n",
        "\n",
        "* `DataGrid.extend()`\n",
        "  * extend a DataGrid with multiple rows at once:\n",
        "  * extend with many rows using a dictionary of keyword-oriented data, where each keyword is a column name:\n",
        "* `DataGrid.append()`\n",
        "  * Appending with a list or position-oriented data if the columns are already defined when creating the DataGrid.\n",
        "  * Appending a row using a dictionary of keyword-oriented data"
      ],
      "metadata": {
        "id": "F-NjqFyyS-8P"
      }
    },
    {
      "cell_type": "markdown",
      "source": [
        "### Adding rows/data with extend()"
      ],
      "metadata": {
        "id": "F_nw8i85xjzr"
      }
    },
    {
      "cell_type": "markdown",
      "source": [
        "**Extending with Multiple rows**\n",
        "\n",
        "![Syntax](https://drive.google.com/uc?export=view&id=1FpA_mr8pIxKgNjzdcIbCxFQ3jLMCTH8s)"
      ],
      "metadata": {
        "id": "O34HVa-MU7Hh"
      }
    },
    {
      "cell_type": "code",
      "source": [
        "# One way where the columns are autofilled if not specified\n",
        "# during DataGrid creation\n",
        "\n",
        "dg.extend([\n",
        "    [165349.2, 136897.8, 471784.1, 'New York', 192261.83],\n",
        "    [162597.7, 151377.59, 443898.53, 'California', 191792.06],\n",
        "    [153441.51, 101145.55, 407934.54, 'Florida', 191050.39],\n",
        "    [144372.41, 118671.85, 383199.62, 'New York', 182901.99],\n",
        "    [142107.34, 91391.77, 366168.42, 'Florida', 166187.94]\n",
        "])"
      ],
      "metadata": {
        "id": "hJUgC_jaxnrE"
      },
      "execution_count": 7,
      "outputs": []
    },
    {
      "cell_type": "code",
      "source": [
        "dg.info()"
      ],
      "metadata": {
        "colab": {
          "base_uri": "https://localhost:8080/"
        },
        "id": "U2AxT6YeaUss",
        "outputId": "d5acb00b-cc8f-44da-cd1a-5b0229644830"
      },
      "execution_count": 8,
      "outputs": [
        {
          "output_type": "stream",
          "name": "stdout",
          "text": [
            "DataGrid (in memory)\n",
            "    Name   : startups\n",
            "    Rows   : 5\n",
            "    Columns: 5\n",
            "#   Column                Non-Null Count DataGrid Type       \n",
            "--- -------------------- --------------- --------------------\n",
            "1   R&D Spending                       5 FLOAT               \n",
            "2   Administration                     5 FLOAT               \n",
            "3   Marketing Spend                    5 FLOAT               \n",
            "4   State                              5 TEXT                \n",
            "5   Profit                             5 FLOAT               \n"
          ]
        }
      ]
    },
    {
      "cell_type": "code",
      "source": [
        "dg.head()"
      ],
      "metadata": {
        "colab": {
          "base_uri": "https://localhost:8080/",
          "height": 171
        },
        "id": "9GEW3h0saojq",
        "outputId": "e6ff8f0b-34a7-4810-c0ac-cd9ebb90194e"
      },
      "execution_count": 9,
      "outputs": [
        {
          "output_type": "display_data",
          "data": {
            "text/plain": [
              "<IPython.core.display.HTML object>"
            ],
            "text/html": [
              "<table><th colspan='1' >          row-id </th> <th colspan='1' >    R&D Spending </th> <th colspan='1' >  Administration </th> <th colspan='1' > Marketing Spend </th> <th colspan='1' >           State </th> <th colspan='1' >          Profit </th> <tr>\n",
              "<td colspan='1' >               1 </td> <td colspan='1' >        165349.2 </td> <td colspan='1' >        136897.8 </td> <td colspan='1' >        471784.1 </td> <td colspan='1' >        New York </td> <td colspan='1' >       192261.83 </td> <tr>\n",
              "<td colspan='1' >               2 </td> <td colspan='1' >        162597.7 </td> <td colspan='1' >       151377.59 </td> <td colspan='1' >       443898.53 </td> <td colspan='1' >      California </td> <td colspan='1' >       191792.06 </td> <tr>\n",
              "<td colspan='1' >               3 </td> <td colspan='1' >       153441.51 </td> <td colspan='1' >       101145.55 </td> <td colspan='1' >       407934.54 </td> <td colspan='1' >         Florida </td> <td colspan='1' >       191050.39 </td> <tr>\n",
              "<td colspan='1' >               4 </td> <td colspan='1' >       144372.41 </td> <td colspan='1' >       118671.85 </td> <td colspan='1' >       383199.62 </td> <td colspan='1' >        New York </td> <td colspan='1' >       182901.99 </td> <tr>\n",
              "<td colspan='1' >               5 </td> <td colspan='1' >       142107.34 </td> <td colspan='1' >        91391.77 </td> <td colspan='1' >       366168.42 </td> <td colspan='1' >         Florida </td> <td colspan='1' >       166187.94 </td> <tr>\n",
              "<tr>\n",
              "<td colspan='6' style=\"text-align: left;\"> [5 rows x 5 columns] </td> <tr>\n",
              "</table>"
            ]
          },
          "metadata": {}
        }
      ]
    },
    {
      "cell_type": "markdown",
      "source": [
        "**Extending with a dictionary of keyword-oriented data:**\n",
        "\n",
        "# syntax\n",
        "```\n",
        "dg.extend([    \n",
        "\n",
        "    {\"column a\":  value1_a, \"column b\": value1_b, \"column c\": value1_c, ...},\n",
        "\n",
        "    `{\"column a\": value2_a, \"column b\": value2_b, \"column c\": value2_c, ...},\n",
        ")\n",
        "```\n",
        "\n"
      ],
      "metadata": {
        "id": "3VS1OixPeJz8"
      }
    },
    {
      "cell_type": "markdown",
      "source": [
        "We can use this method if we have not decided to specify the columns. The keys will serve as the column names."
      ],
      "metadata": {
        "id": "es06DpKIWTD5"
      }
    },
    {
      "cell_type": "code",
      "source": [
        "dg2 = DataGrid(name='startups')\n",
        "\n",
        "dg2.info()  "
      ],
      "metadata": {
        "colab": {
          "base_uri": "https://localhost:8080/"
        },
        "id": "GiAohjOQcaUS",
        "outputId": "2dc7fbba-754b-4906-9853-dc76dfc35a41"
      },
      "execution_count": 10,
      "outputs": [
        {
          "output_type": "stream",
          "name": "stdout",
          "text": [
            "DataGrid (in memory)\n",
            "    Name   : startups\n",
            "    Rows   : 0\n",
            "    Columns: 0\n",
            "#   Column                Non-Null Count DataGrid Type       \n",
            "--- -------------------- --------------- --------------------\n"
          ]
        }
      ]
    },
    {
      "cell_type": "markdown",
      "source": [
        "If the columns are not specified, Kangas will automatically autofill the columns with A, B, C...n_rows"
      ],
      "metadata": {
        "id": "ZuibdupuzpZR"
      }
    },
    {
      "cell_type": "code",
      "source": [
        "# [165349.2, 136897.8, 471784.1, 'New York', 192261.83]\n",
        "# [162597.7, 151377.59, 443898.53, 'California', 191792.06]\n",
        "# [153441.51, 101145.55, 407934.54, 'Florida', 191050.39]\n",
        "# [144372.41, 118671.85, 383199.62, 'New York', 182901.99]\n",
        "# [142107.34, 91391.77, 366168.42, 'Florida', 166187.94]\n",
        "\n",
        "dg2.extend([\n",
        "    {\"R&D Spending\":165349.2, \"Administration\": 136897.8, \"Marketing Spend\":471784.1, \"State\":\"New York\", \"Profit\":192261.83},\n",
        "    {\"R&D Spending\":162597.7, \"Administration\": 151377.59, \"Marketing Spend\":443898.53, \"State\":\"California\", \"Profit\":191792.06},\n",
        "    {\"R&D Spending\":153441.51, \"Administration\": 101145.55, \"Marketing Spend\":407934.54, \"State\":\"Florida\", \"Profit\":191050.39},\n",
        "    {\"R&D Spending\":144372.41, \"Administration\": 118671.85, \"Marketing Spend\":383199.62, \"State\":\"New York\", \"Profit\":182901.99},\n",
        "    {\"R&D Spending\":142107.34, \"Administration\": 91391.77, \"Marketing Spend\":366168.42, \"State\":\"Florida\", \"Profit\":166187.94},\n",
        "])\n",
        "\n",
        "dg2.info()"
      ],
      "metadata": {
        "colab": {
          "base_uri": "https://localhost:8080/"
        },
        "id": "5kcKMHdz0GVW",
        "outputId": "576003b9-4b88-4df5-c13a-b3811d5eadc0"
      },
      "execution_count": 11,
      "outputs": [
        {
          "output_type": "stream",
          "name": "stdout",
          "text": [
            "DataGrid (in memory)\n",
            "    Name   : startups\n",
            "    Rows   : 5\n",
            "    Columns: 5\n",
            "#   Column                Non-Null Count DataGrid Type       \n",
            "--- -------------------- --------------- --------------------\n",
            "1   R&D Spending                       5 FLOAT               \n",
            "2   Administration                     5 FLOAT               \n",
            "3   Marketing Spend                    5 FLOAT               \n",
            "4   State                              5 TEXT                \n",
            "5   Profit                             5 FLOAT               \n"
          ]
        }
      ]
    },
    {
      "cell_type": "code",
      "source": [
        "dg2.head()"
      ],
      "metadata": {
        "colab": {
          "base_uri": "https://localhost:8080/",
          "height": 171
        },
        "id": "9_SedX2xfcMa",
        "outputId": "3d2991c5-5a17-4939-8cd4-a75d4fe9c232"
      },
      "execution_count": 12,
      "outputs": [
        {
          "output_type": "display_data",
          "data": {
            "text/plain": [
              "<IPython.core.display.HTML object>"
            ],
            "text/html": [
              "<table><th colspan='1' >          row-id </th> <th colspan='1' >    R&D Spending </th> <th colspan='1' >  Administration </th> <th colspan='1' > Marketing Spend </th> <th colspan='1' >           State </th> <th colspan='1' >          Profit </th> <tr>\n",
              "<td colspan='1' >               1 </td> <td colspan='1' >        165349.2 </td> <td colspan='1' >        136897.8 </td> <td colspan='1' >        471784.1 </td> <td colspan='1' >        New York </td> <td colspan='1' >       192261.83 </td> <tr>\n",
              "<td colspan='1' >               2 </td> <td colspan='1' >        162597.7 </td> <td colspan='1' >       151377.59 </td> <td colspan='1' >       443898.53 </td> <td colspan='1' >      California </td> <td colspan='1' >       191792.06 </td> <tr>\n",
              "<td colspan='1' >               3 </td> <td colspan='1' >       153441.51 </td> <td colspan='1' >       101145.55 </td> <td colspan='1' >       407934.54 </td> <td colspan='1' >         Florida </td> <td colspan='1' >       191050.39 </td> <tr>\n",
              "<td colspan='1' >               4 </td> <td colspan='1' >       144372.41 </td> <td colspan='1' >       118671.85 </td> <td colspan='1' >       383199.62 </td> <td colspan='1' >        New York </td> <td colspan='1' >       182901.99 </td> <tr>\n",
              "<td colspan='1' >               5 </td> <td colspan='1' >       142107.34 </td> <td colspan='1' >        91391.77 </td> <td colspan='1' >       366168.42 </td> <td colspan='1' >         Florida </td> <td colspan='1' >       166187.94 </td> <tr>\n",
              "<tr>\n",
              "<td colspan='6' style=\"text-align: left;\"> [5 rows x 5 columns] </td> <tr>\n",
              "</table>"
            ]
          },
          "metadata": {}
        }
      ]
    },
    {
      "cell_type": "markdown",
      "source": [
        "### Adding with append()"
      ],
      "metadata": {
        "id": "shEMa0l5xfWX"
      }
    },
    {
      "cell_type": "markdown",
      "source": [
        "With append, we can only add a single row at a time"
      ],
      "metadata": {
        "id": "TcvJ2c56Wb0f"
      }
    },
    {
      "cell_type": "markdown",
      "source": [
        "**Appending with a list or position-oriented data:**"
      ],
      "metadata": {
        "id": "PP9KMm6AolmK"
      }
    },
    {
      "cell_type": "code",
      "source": [
        "dg3 = kg.DataGrid(name=\"startups\", columns=['R&D Spending', 'Administration', 'Marketing Spend', 'State', 'Profit'])\n",
        "\n",
        "dg3.append([165349.2, 136897.8, 471784.1, 'New York', 192261.83])"
      ],
      "metadata": {
        "id": "M7XQwlYGi0Dc"
      },
      "execution_count": 13,
      "outputs": []
    },
    {
      "cell_type": "code",
      "source": [
        "dg3.info()"
      ],
      "metadata": {
        "colab": {
          "base_uri": "https://localhost:8080/"
        },
        "id": "SydLYSVGlA7G",
        "outputId": "b202230b-b8b7-4e21-b83f-b5fc5407429c"
      },
      "execution_count": 14,
      "outputs": [
        {
          "output_type": "stream",
          "name": "stdout",
          "text": [
            "DataGrid (in memory)\n",
            "    Name   : startups\n",
            "    Rows   : 1\n",
            "    Columns: 5\n",
            "#   Column                Non-Null Count DataGrid Type       \n",
            "--- -------------------- --------------- --------------------\n",
            "1   R&D Spending                       1 FLOAT               \n",
            "2   Administration                     1 FLOAT               \n",
            "3   Marketing Spend                    1 FLOAT               \n",
            "4   State                              1 TEXT                \n",
            "5   Profit                             1 FLOAT               \n"
          ]
        }
      ]
    },
    {
      "cell_type": "code",
      "source": [
        "dg3.append([162597.7, 151377.59, 443898.53, 'California', 191792.06]) "
      ],
      "metadata": {
        "id": "CiA8CQ4pTExm"
      },
      "execution_count": 15,
      "outputs": []
    },
    {
      "cell_type": "code",
      "source": [
        "dg3.append([153441.51, 101145.55, 407934.54, 'Florida', 191050.39])"
      ],
      "metadata": {
        "id": "A62xYkT8mSsd"
      },
      "execution_count": 16,
      "outputs": []
    },
    {
      "cell_type": "code",
      "source": [
        "dg3.append([144372.41, 118671.85, 383199.62, 'New York', 182901.99])"
      ],
      "metadata": {
        "id": "g2eQ63ogmeNz"
      },
      "execution_count": 17,
      "outputs": []
    },
    {
      "cell_type": "code",
      "source": [
        "dg3.append([142107.34, 91391.77, 366168.42, 'Florida', 166187.94])"
      ],
      "metadata": {
        "id": "9oJnKgD3mlbo"
      },
      "execution_count": 18,
      "outputs": []
    },
    {
      "cell_type": "code",
      "source": [
        "dg3.head()"
      ],
      "metadata": {
        "colab": {
          "base_uri": "https://localhost:8080/",
          "height": 171
        },
        "id": "v7Hrq5kxRoVV",
        "outputId": "a12c72d7-8a52-49b4-fa46-7182c0d2f562"
      },
      "execution_count": 19,
      "outputs": [
        {
          "output_type": "display_data",
          "data": {
            "text/plain": [
              "<IPython.core.display.HTML object>"
            ],
            "text/html": [
              "<table><th colspan='1' >          row-id </th> <th colspan='1' >    R&D Spending </th> <th colspan='1' >  Administration </th> <th colspan='1' > Marketing Spend </th> <th colspan='1' >           State </th> <th colspan='1' >          Profit </th> <tr>\n",
              "<td colspan='1' >               1 </td> <td colspan='1' >        165349.2 </td> <td colspan='1' >        136897.8 </td> <td colspan='1' >        471784.1 </td> <td colspan='1' >        New York </td> <td colspan='1' >       192261.83 </td> <tr>\n",
              "<td colspan='1' >               2 </td> <td colspan='1' >        162597.7 </td> <td colspan='1' >       151377.59 </td> <td colspan='1' >       443898.53 </td> <td colspan='1' >      California </td> <td colspan='1' >       191792.06 </td> <tr>\n",
              "<td colspan='1' >               3 </td> <td colspan='1' >       153441.51 </td> <td colspan='1' >       101145.55 </td> <td colspan='1' >       407934.54 </td> <td colspan='1' >         Florida </td> <td colspan='1' >       191050.39 </td> <tr>\n",
              "<td colspan='1' >               4 </td> <td colspan='1' >       144372.41 </td> <td colspan='1' >       118671.85 </td> <td colspan='1' >       383199.62 </td> <td colspan='1' >        New York </td> <td colspan='1' >       182901.99 </td> <tr>\n",
              "<td colspan='1' >               5 </td> <td colspan='1' >       142107.34 </td> <td colspan='1' >        91391.77 </td> <td colspan='1' >       366168.42 </td> <td colspan='1' >         Florida </td> <td colspan='1' >       166187.94 </td> <tr>\n",
              "<tr>\n",
              "<td colspan='6' style=\"text-align: left;\"> [5 rows x 5 columns] </td> <tr>\n",
              "</table>"
            ]
          },
          "metadata": {}
        }
      ]
    },
    {
      "cell_type": "markdown",
      "source": [
        "**Appending using a dictionary of keyword-oriented data, where each keyword is a column name:**"
      ],
      "metadata": {
        "id": "Ou_hRi9ootu2"
      }
    },
    {
      "cell_type": "code",
      "source": [
        "# {\"R&D Spending\":165349.2, \"Administration\": 136897.8, \"Marketing Spend\":471784.1, \"State\":\"New York\", \"Profit\":192261.83},\n",
        "#     {\"R&D Spending\":162597.7, \"Administration\": 151377.59, \"Marketing Spend\":443898.53, \"State\":\"California\", \"Profit\":191792.06},\n",
        "#     {\"R&D Spending\":153441.51, \"Administration\": 101145.55, \"Marketing Spend\":407934.54, \"State\":\"Florida\", \"Profit\":191050.39},\n",
        "#     {\"R&D Spending\":144372.41, \"Administration\": 118671.85, \"Marketing Spend\":383199.62, \"State\":\"New York\", \"Profit\":182901.99},\n",
        "#     {\"R&D Spending\":142107.34, \"Administration\": 91391.77, \"Marketing Spend\":366168.42, \"State\":\"Florida\", \"Profit\":166187.94},"
      ],
      "metadata": {
        "id": "XmJ326b8m5lM"
      },
      "execution_count": 20,
      "outputs": []
    },
    {
      "cell_type": "code",
      "source": [
        "dg4 = kg.DataGrid(name=\"startups\")"
      ],
      "metadata": {
        "id": "VU6dfj67pQKF"
      },
      "execution_count": 21,
      "outputs": []
    },
    {
      "cell_type": "code",
      "source": [
        "dg4.append({\"R&D Spending\":165349.2, \"Administration\": 136897.8, \"Marketing Spend\":471784.1, \"State\":\"New York\", \"Profit\":192261.83})"
      ],
      "metadata": {
        "id": "HzPvDJ49ruoY"
      },
      "execution_count": 22,
      "outputs": []
    },
    {
      "cell_type": "code",
      "source": [
        "dg4.append({\"R&D Spending\":162597.7, \"Administration\": 151377.59, \"Marketing Spend\":443898.53, \"State\":\"California\",\"Profit\":191792.06})"
      ],
      "metadata": {
        "id": "r6pGe_xesr7t"
      },
      "execution_count": 23,
      "outputs": []
    },
    {
      "cell_type": "code",
      "source": [
        "dg4.append({\"R&D Spending\":153441.51, \"Administration\": 101145.55, \"Marketing Spend\":407934.54, \"State\":\"Florida\", \"Profit\":191050.39})"
      ],
      "metadata": {
        "id": "RiaFNhPksyqW"
      },
      "execution_count": 24,
      "outputs": []
    },
    {
      "cell_type": "code",
      "source": [
        "dg4.append({\"R&D Spending\":144372.41, \"Administration\": 118671.85, \"Marketing Spend\":383199.62, \"State\":\"New York\", \"Profit\":182901.99})"
      ],
      "metadata": {
        "id": "DgN-74C1s5uJ"
      },
      "execution_count": 25,
      "outputs": []
    },
    {
      "cell_type": "code",
      "source": [
        "dg4.append({\"R&D Spending\":142107.34, \"Administration\": 91391.77, \"Marketing Spend\":366168.42, \"State\":\"Florida\", \"Profit\":166187.94})"
      ],
      "metadata": {
        "id": "7zMF1U1gs7wh"
      },
      "execution_count": 26,
      "outputs": []
    },
    {
      "cell_type": "code",
      "source": [
        "dg4.info()"
      ],
      "metadata": {
        "colab": {
          "base_uri": "https://localhost:8080/"
        },
        "id": "2VQyMqQIsA4q",
        "outputId": "41c62063-523a-484d-97bb-e8ea63e16e21"
      },
      "execution_count": 27,
      "outputs": [
        {
          "output_type": "stream",
          "name": "stdout",
          "text": [
            "DataGrid (in memory)\n",
            "    Name   : startups\n",
            "    Rows   : 5\n",
            "    Columns: 5\n",
            "#   Column                Non-Null Count DataGrid Type       \n",
            "--- -------------------- --------------- --------------------\n",
            "1   R&D Spending                       5 FLOAT               \n",
            "2   Administration                     5 FLOAT               \n",
            "3   Marketing Spend                    5 FLOAT               \n",
            "4   State                              5 TEXT                \n",
            "5   Profit                             5 FLOAT               \n"
          ]
        }
      ]
    },
    {
      "cell_type": "code",
      "source": [
        "dg4.head()"
      ],
      "metadata": {
        "colab": {
          "base_uri": "https://localhost:8080/",
          "height": 171
        },
        "id": "BFZAwJHNsDfF",
        "outputId": "f834c822-e656-4a73-b04d-636cfe012695"
      },
      "execution_count": 28,
      "outputs": [
        {
          "output_type": "display_data",
          "data": {
            "text/plain": [
              "<IPython.core.display.HTML object>"
            ],
            "text/html": [
              "<table><th colspan='1' >          row-id </th> <th colspan='1' >    R&D Spending </th> <th colspan='1' >  Administration </th> <th colspan='1' > Marketing Spend </th> <th colspan='1' >           State </th> <th colspan='1' >          Profit </th> <tr>\n",
              "<td colspan='1' >               1 </td> <td colspan='1' >        165349.2 </td> <td colspan='1' >        136897.8 </td> <td colspan='1' >        471784.1 </td> <td colspan='1' >        New York </td> <td colspan='1' >       192261.83 </td> <tr>\n",
              "<td colspan='1' >               2 </td> <td colspan='1' >        162597.7 </td> <td colspan='1' >       151377.59 </td> <td colspan='1' >       443898.53 </td> <td colspan='1' >      California </td> <td colspan='1' >       191792.06 </td> <tr>\n",
              "<td colspan='1' >               3 </td> <td colspan='1' >       153441.51 </td> <td colspan='1' >       101145.55 </td> <td colspan='1' >       407934.54 </td> <td colspan='1' >         Florida </td> <td colspan='1' >       191050.39 </td> <tr>\n",
              "<td colspan='1' >               4 </td> <td colspan='1' >       144372.41 </td> <td colspan='1' >       118671.85 </td> <td colspan='1' >       383199.62 </td> <td colspan='1' >        New York </td> <td colspan='1' >       182901.99 </td> <tr>\n",
              "<td colspan='1' >               5 </td> <td colspan='1' >       142107.34 </td> <td colspan='1' >        91391.77 </td> <td colspan='1' >       366168.42 </td> <td colspan='1' >         Florida </td> <td colspan='1' >       166187.94 </td> <tr>\n",
              "<tr>\n",
              "<td colspan='6' style=\"text-align: left;\"> [5 rows x 5 columns] </td> <tr>\n",
              "</table>"
            ]
          },
          "metadata": {}
        }
      ]
    },
    {
      "cell_type": "markdown",
      "source": [
        "# Saving the DataGrid"
      ],
      "metadata": {
        "id": "VwhJB9xFwAbA"
      }
    },
    {
      "cell_type": "markdown",
      "source": [
        "## Saving DataGrid"
      ],
      "metadata": {
        "id": "Ae1J5vxGD6_U"
      }
    },
    {
      "cell_type": "markdown",
      "source": [
        "We need to save the DataGrid from in memory to in disk"
      ],
      "metadata": {
        "id": "dX3JewfWXXXY"
      }
    },
    {
      "cell_type": "markdown",
      "source": [
        "Let's use our first DataGrid (dg) from here..."
      ],
      "metadata": {
        "id": "MMLnn7nYXpnT"
      }
    },
    {
      "cell_type": "code",
      "source": [
        "dg.save()"
      ],
      "metadata": {
        "colab": {
          "base_uri": "https://localhost:8080/"
        },
        "id": "ixvPX0nUXd0u",
        "outputId": "e36e4901-a881-4263-e3ee-1d7afe7079f2"
      },
      "execution_count": 39,
      "outputs": [
        {
          "output_type": "stream",
          "name": "stdout",
          "text": [
            "Saving data...\n"
          ]
        },
        {
          "output_type": "stream",
          "name": "stderr",
          "text": [
            "100%|██████████| 5/5 [00:00<00:00, 16657.28it/s]\n"
          ]
        },
        {
          "output_type": "stream",
          "name": "stdout",
          "text": [
            "Saving datagrid to 'startups.datagrid'...\n",
            "Extending data...\n"
          ]
        },
        {
          "output_type": "stream",
          "name": "stderr",
          "text": [
            "100%|██████████| 5/5 [00:00<00:00, 5447.15it/s]\n"
          ]
        },
        {
          "output_type": "stream",
          "name": "stdout",
          "text": [
            "Computing statistics...\n"
          ]
        },
        {
          "output_type": "stream",
          "name": "stderr",
          "text": [
            "100%|██████████| 6/6 [00:00<00:00, 6181.73it/s]\n"
          ]
        }
      ]
    },
    {
      "cell_type": "markdown",
      "source": [
        "**Reading DataGrid file:**"
      ],
      "metadata": {
        "id": "ITpgDY1sZi27"
      }
    },
    {
      "cell_type": "markdown",
      "source": [
        "Once a call `dg.save()` the DataGrid is saved with the name and `.datagrid` extension\n",
        "\n",
        "We can read this datagrid with the **`read_datagrid()`** method"
      ],
      "metadata": {
        "id": "rt1Zn9NGXxBa"
      }
    },
    {
      "cell_type": "code",
      "source": [
        "dg_g = kg.read_datagrid('startups.datagrid')\n",
        "\n",
        "dg_g"
      ],
      "metadata": {
        "colab": {
          "base_uri": "https://localhost:8080/",
          "height": 196
        },
        "id": "bygXmgqKYDuO",
        "outputId": "3f41f458-9d0f-428d-cbbe-ec53f20727d4"
      },
      "execution_count": 30,
      "outputs": [
        {
          "output_type": "execute_result",
          "data": {
            "text/plain": [
              "<th colspan='1' >          row-id </th> <th colspan='1' >    R&D Spending </th> <th colspan='1' >  Administration </th> <th colspan='1' > Marketing Spend </th> <th colspan='1' >           State </th> <th colspan='1' >          Profit </th> <tr>\n",
              "<td colspan='1' >               1 </td> <td colspan='1' >        165349.2 </td> <td colspan='1' >        136897.8 </td> <td colspan='1' >        471784.1 </td> <td colspan='1' >        New York </td> <td colspan='1' >       192261.83 </td> <tr>\n",
              "<td colspan='1' >               2 </td> <td colspan='1' >        162597.7 </td> <td colspan='1' >       151377.59 </td> <td colspan='1' >       443898.53 </td> <td colspan='1' >      California </td> <td colspan='1' >       191792.06 </td> <tr>\n",
              "<td colspan='1' >               3 </td> <td colspan='1' >       153441.51 </td> <td colspan='1' >       101145.55 </td> <td colspan='1' >       407934.54 </td> <td colspan='1' >         Florida </td> <td colspan='1' >       191050.39 </td> <tr>\n",
              "<td colspan='1' >               4 </td> <td colspan='1' >       144372.41 </td> <td colspan='1' >       118671.85 </td> <td colspan='1' >       383199.62 </td> <td colspan='1' >        New York </td> <td colspan='1' >       182901.99 </td> <tr>\n",
              "<td colspan='1' >               5 </td> <td colspan='1' >       142107.34 </td> <td colspan='1' >        91391.77 </td> <td colspan='1' >       366168.42 </td> <td colspan='1' >         Florida </td> <td colspan='1' >       166187.94 </td> <tr>\n",
              "<tr>\n",
              "<td colspan='6' style=\"text-align: left;\"> [5 rows x 5 columns] </td> <tr>\n",
              "\n",
              "*  Use DataGrid.show() to start user interface"
            ],
            "text/html": [
              "<table><th colspan='1' >          row-id </th> <th colspan='1' >    R&D Spending </th> <th colspan='1' >  Administration </th> <th colspan='1' > Marketing Spend </th> <th colspan='1' >           State </th> <th colspan='1' >          Profit </th> <tr>\n",
              "<td colspan='1' >               1 </td> <td colspan='1' >        165349.2 </td> <td colspan='1' >        136897.8 </td> <td colspan='1' >        471784.1 </td> <td colspan='1' >        New York </td> <td colspan='1' >       192261.83 </td> <tr>\n",
              "<td colspan='1' >               2 </td> <td colspan='1' >        162597.7 </td> <td colspan='1' >       151377.59 </td> <td colspan='1' >       443898.53 </td> <td colspan='1' >      California </td> <td colspan='1' >       191792.06 </td> <tr>\n",
              "<td colspan='1' >               3 </td> <td colspan='1' >       153441.51 </td> <td colspan='1' >       101145.55 </td> <td colspan='1' >       407934.54 </td> <td colspan='1' >         Florida </td> <td colspan='1' >       191050.39 </td> <tr>\n",
              "<td colspan='1' >               4 </td> <td colspan='1' >       144372.41 </td> <td colspan='1' >       118671.85 </td> <td colspan='1' >       383199.62 </td> <td colspan='1' >        New York </td> <td colspan='1' >       182901.99 </td> <tr>\n",
              "<td colspan='1' >               5 </td> <td colspan='1' >       142107.34 </td> <td colspan='1' >        91391.77 </td> <td colspan='1' >       366168.42 </td> <td colspan='1' >         Florida </td> <td colspan='1' >       166187.94 </td> <tr>\n",
              "<tr>\n",
              "<td colspan='6' style=\"text-align: left;\"> [5 rows x 5 columns] </td> <tr>\n",
              "<tr><td colspan='6' style='text-align: left;'></td></tr><tr><td colspan='6' style='text-align: left;'>*  Use DataGrid.show() to start user interface</td></tr></table>"
            ]
          },
          "metadata": {},
          "execution_count": 30
        }
      ]
    },
    {
      "cell_type": "markdown",
      "source": [
        "## Saving DataGrid as CSV\n",
        "\n",
        "Save DataGrid as CSV with **`to_csv()`**."
      ],
      "metadata": {
        "id": "6NxGzgfCD3bJ"
      }
    },
    {
      "cell_type": "code",
      "source": [
        "dg.to_csv('startups.csv')"
      ],
      "metadata": {
        "colab": {
          "base_uri": "https://localhost:8080/"
        },
        "id": "teciW7d4DsvM",
        "outputId": "b95827f1-4952-407e-cbcd-85ae5334a79c"
      },
      "execution_count": 31,
      "outputs": [
        {
          "output_type": "stream",
          "name": "stdout",
          "text": [
            "Saving DataGrid to 'startups.csv'...\n"
          ]
        },
        {
          "output_type": "stream",
          "name": "stderr",
          "text": [
            "100%|██████████| 5/5 [00:00<00:00, 5526.09it/s]\n"
          ]
        }
      ]
    },
    {
      "cell_type": "markdown",
      "source": [
        "## Reading the saved CSV with Kangas\n",
        "\n",
        "REad the CSV with `read_csv()`.."
      ],
      "metadata": {
        "id": "v6AhumkKD_wG"
      }
    },
    {
      "cell_type": "code",
      "source": [
        "dg = kg.read_csv('startups.csv')\n",
        "dg.head()"
      ],
      "metadata": {
        "colab": {
          "base_uri": "https://localhost:8080/",
          "height": 225
        },
        "id": "9PXTlbNLEEEq",
        "outputId": "2c33418b-b133-45d8-d299-b019117a6acd"
      },
      "execution_count": 32,
      "outputs": [
        {
          "output_type": "stream",
          "name": "stdout",
          "text": [
            "Loading CSV file 'startups.csv'...\n"
          ]
        },
        {
          "output_type": "stream",
          "name": "stderr",
          "text": [
            "6it [00:00, 12958.71it/s]\n",
            "100%|██████████| 5/5 [00:00<00:00, 5367.68it/s]\n"
          ]
        },
        {
          "output_type": "display_data",
          "data": {
            "text/plain": [
              "<IPython.core.display.HTML object>"
            ],
            "text/html": [
              "<table><th colspan='1' >          row-id </th> <th colspan='1' >    R&D Spending </th> <th colspan='1' >  Administration </th> <th colspan='1' > Marketing Spend </th> <th colspan='1' >           State </th> <th colspan='1' >          Profit </th> <tr>\n",
              "<td colspan='1' >               1 </td> <td colspan='1' >        165349.2 </td> <td colspan='1' >        136897.8 </td> <td colspan='1' >        471784.1 </td> <td colspan='1' >        New York </td> <td colspan='1' >       192261.83 </td> <tr>\n",
              "<td colspan='1' >               2 </td> <td colspan='1' >        162597.7 </td> <td colspan='1' >       151377.59 </td> <td colspan='1' >       443898.53 </td> <td colspan='1' >      California </td> <td colspan='1' >       191792.06 </td> <tr>\n",
              "<td colspan='1' >               3 </td> <td colspan='1' >       153441.51 </td> <td colspan='1' >       101145.55 </td> <td colspan='1' >       407934.54 </td> <td colspan='1' >         Florida </td> <td colspan='1' >       191050.39 </td> <tr>\n",
              "<td colspan='1' >               4 </td> <td colspan='1' >       144372.41 </td> <td colspan='1' >       118671.85 </td> <td colspan='1' >       383199.62 </td> <td colspan='1' >        New York </td> <td colspan='1' >       182901.99 </td> <tr>\n",
              "<td colspan='1' >               5 </td> <td colspan='1' >       142107.34 </td> <td colspan='1' >        91391.77 </td> <td colspan='1' >       366168.42 </td> <td colspan='1' >         Florida </td> <td colspan='1' >       166187.94 </td> <tr>\n",
              "<tr>\n",
              "<td colspan='6' style=\"text-align: left;\"> [5 rows x 5 columns] </td> <tr>\n",
              "</table>"
            ]
          },
          "metadata": {}
        }
      ]
    },
    {
      "cell_type": "markdown",
      "source": [
        "## Convert the DataGrid into a DataFrame\n",
        "\n",
        "**`to_dataframe()`** does the job"
      ],
      "metadata": {
        "id": "n3wF5JWfYeZR"
      }
    },
    {
      "cell_type": "code",
      "source": [
        "pd_dataframe = dg.to_dataframe()"
      ],
      "metadata": {
        "colab": {
          "base_uri": "https://localhost:8080/"
        },
        "id": "ZIwABvsSwII1",
        "outputId": "c6581e9d-f261-423a-b642-7a76fc69e361"
      },
      "execution_count": 33,
      "outputs": [
        {
          "output_type": "stream",
          "name": "stdout",
          "text": [
            "Creating DataFrame...\n"
          ]
        }
      ]
    },
    {
      "cell_type": "code",
      "source": [
        "dg_from_df = kg.read_dataframe(pd_dataframe)\n",
        "\n",
        "dg_from_df.head()"
      ],
      "metadata": {
        "colab": {
          "base_uri": "https://localhost:8080/",
          "height": 225
        },
        "id": "1uaDWzbcxfiH",
        "outputId": "4ac0eb6d-78df-4015-fd48-6c077b7f6fc7"
      },
      "execution_count": 34,
      "outputs": [
        {
          "output_type": "stream",
          "name": "stdout",
          "text": [
            "Reading DataFrame...\n"
          ]
        },
        {
          "output_type": "stream",
          "name": "stderr",
          "text": [
            "5it [00:00, 3445.30it/s]\n",
            "100%|██████████| 5/5 [00:00<00:00, 3513.99it/s]\n"
          ]
        },
        {
          "output_type": "display_data",
          "data": {
            "text/plain": [
              "<IPython.core.display.HTML object>"
            ],
            "text/html": [
              "<table><th colspan='1' >          row-id </th> <th colspan='1' >    R&D Spending </th> <th colspan='1' >  Administration </th> <th colspan='1' > Marketing Spend </th> <th colspan='1' >           State </th> <th colspan='1' >          Profit </th> <tr>\n",
              "<td colspan='1' >               1 </td> <td colspan='1' >        165349.2 </td> <td colspan='1' >        136897.8 </td> <td colspan='1' >        471784.1 </td> <td colspan='1' >        New York </td> <td colspan='1' >       192261.83 </td> <tr>\n",
              "<td colspan='1' >               2 </td> <td colspan='1' >        162597.7 </td> <td colspan='1' >       151377.59 </td> <td colspan='1' >       443898.53 </td> <td colspan='1' >      California </td> <td colspan='1' >       191792.06 </td> <tr>\n",
              "<td colspan='1' >               3 </td> <td colspan='1' >       153441.51 </td> <td colspan='1' >       101145.55 </td> <td colspan='1' >       407934.54 </td> <td colspan='1' >         Florida </td> <td colspan='1' >       191050.39 </td> <tr>\n",
              "<td colspan='1' >               4 </td> <td colspan='1' >       144372.41 </td> <td colspan='1' >       118671.85 </td> <td colspan='1' >       383199.62 </td> <td colspan='1' >        New York </td> <td colspan='1' >       182901.99 </td> <tr>\n",
              "<td colspan='1' >               5 </td> <td colspan='1' >       142107.34 </td> <td colspan='1' >        91391.77 </td> <td colspan='1' >       366168.42 </td> <td colspan='1' >         Florida </td> <td colspan='1' >       166187.94 </td> <tr>\n",
              "<tr>\n",
              "<td colspan='6' style=\"text-align: left;\"> [5 rows x 5 columns] </td> <tr>\n",
              "</table>"
            ]
          },
          "metadata": {}
        }
      ]
    },
    {
      "cell_type": "markdown",
      "source": [
        "# Basic operations on Kangas DataGrid"
      ],
      "metadata": {
        "id": "Bga-CZxOWVrh"
      }
    },
    {
      "cell_type": "markdown",
      "source": [
        "### Getting the head"
      ],
      "metadata": {
        "id": "vfIsOD5McjKZ"
      }
    },
    {
      "cell_type": "code",
      "source": [
        "dg.head(3)"
      ],
      "metadata": {
        "colab": {
          "base_uri": "https://localhost:8080/",
          "height": 128
        },
        "id": "CCJ1twCsc2gB",
        "outputId": "2b0f0662-81d1-4f4f-8638-65799ebd54ba"
      },
      "execution_count": 35,
      "outputs": [
        {
          "output_type": "display_data",
          "data": {
            "text/plain": [
              "<IPython.core.display.HTML object>"
            ],
            "text/html": [
              "<table><th colspan='1' >          row-id </th> <th colspan='1' >    R&D Spending </th> <th colspan='1' >  Administration </th> <th colspan='1' > Marketing Spend </th> <th colspan='1' >           State </th> <th colspan='1' >          Profit </th> <tr>\n",
              "<td colspan='1' >               1 </td> <td colspan='1' >        165349.2 </td> <td colspan='1' >        136897.8 </td> <td colspan='1' >        471784.1 </td> <td colspan='1' >        New York </td> <td colspan='1' >       192261.83 </td> <tr>\n",
              "<td colspan='1' >               2 </td> <td colspan='1' >        162597.7 </td> <td colspan='1' >       151377.59 </td> <td colspan='1' >       443898.53 </td> <td colspan='1' >      California </td> <td colspan='1' >       191792.06 </td> <tr>\n",
              "<td colspan='1' >               3 </td> <td colspan='1' >       153441.51 </td> <td colspan='1' >       101145.55 </td> <td colspan='1' >       407934.54 </td> <td colspan='1' >         Florida </td> <td colspan='1' >       191050.39 </td> <tr>\n",
              "<tr>\n",
              "<td colspan='6' style=\"text-align: left;\"> [5 rows x 5 columns] </td> <tr>\n",
              "</table>"
            ]
          },
          "metadata": {}
        }
      ]
    },
    {
      "cell_type": "markdown",
      "source": [
        "### Tail"
      ],
      "metadata": {
        "id": "Qm_hvATddM3w"
      }
    },
    {
      "cell_type": "code",
      "source": [
        "dg.tail(3)"
      ],
      "metadata": {
        "colab": {
          "base_uri": "https://localhost:8080/",
          "height": 128
        },
        "id": "r7dRaGwOdOk2",
        "outputId": "20ea75a1-f156-495c-8c4d-796f5f43e821"
      },
      "execution_count": 36,
      "outputs": [
        {
          "output_type": "display_data",
          "data": {
            "text/plain": [
              "<IPython.core.display.HTML object>"
            ],
            "text/html": [
              "<table><th colspan='1' >          row-id </th> <th colspan='1' >    R&D Spending </th> <th colspan='1' >  Administration </th> <th colspan='1' > Marketing Spend </th> <th colspan='1' >           State </th> <th colspan='1' >          Profit </th> <tr>\n",
              "<td colspan='1' >               3 </td> <td colspan='1' >       153441.51 </td> <td colspan='1' >       101145.55 </td> <td colspan='1' >       407934.54 </td> <td colspan='1' >         Florida </td> <td colspan='1' >       191050.39 </td> <tr>\n",
              "<td colspan='1' >               4 </td> <td colspan='1' >       144372.41 </td> <td colspan='1' >       118671.85 </td> <td colspan='1' >       383199.62 </td> <td colspan='1' >        New York </td> <td colspan='1' >       182901.99 </td> <tr>\n",
              "<td colspan='1' >               5 </td> <td colspan='1' >       142107.34 </td> <td colspan='1' >        91391.77 </td> <td colspan='1' >       366168.42 </td> <td colspan='1' >         Florida </td> <td colspan='1' >       166187.94 </td> <tr>\n",
              "<tr>\n",
              "<td colspan='6' style=\"text-align: left;\"> [5 rows x 5 columns] </td> <tr>\n",
              "</table>"
            ]
          },
          "metadata": {}
        }
      ]
    },
    {
      "cell_type": "markdown",
      "source": [
        "### Shape"
      ],
      "metadata": {
        "id": "HfidaczKeD6H"
      }
    },
    {
      "cell_type": "code",
      "source": [
        "dg.shape"
      ],
      "metadata": {
        "colab": {
          "base_uri": "https://localhost:8080/"
        },
        "id": "9yvfGBzeeFhE",
        "outputId": "e30395e9-2c22-4e14-deb2-4dc734813969"
      },
      "execution_count": 37,
      "outputs": [
        {
          "output_type": "execute_result",
          "data": {
            "text/plain": [
              "(5, 6)"
            ]
          },
          "metadata": {},
          "execution_count": 37
        }
      ]
    },
    {
      "cell_type": "markdown",
      "source": [
        "## Selecting"
      ],
      "metadata": {
        "id": "oPVdvUauYz4X"
      }
    },
    {
      "cell_type": "code",
      "source": [
        "dg.select_count(\"{'R&D Spending'} > 150000\")"
      ],
      "metadata": {
        "colab": {
          "base_uri": "https://localhost:8080/"
        },
        "id": "Zw6z9tdSFJq3",
        "outputId": "0c0e3591-24eb-4380-e1ad-9398c1cab069"
      },
      "execution_count": 40,
      "outputs": [
        {
          "output_type": "execute_result",
          "data": {
            "text/plain": [
              "3"
            ]
          },
          "metadata": {},
          "execution_count": 40
        }
      ]
    },
    {
      "cell_type": "code",
      "source": [
        "dg.select(\"{'R&D Spending'} > {'Administration'} and {'Profit'} > 190000\", sort_by=\"State\", sort_desc=True, to_dicts=True)"
      ],
      "metadata": {
        "colab": {
          "base_uri": "https://localhost:8080/"
        },
        "id": "EcsdBkUdFJfq",
        "outputId": "0f86a056-dd81-448c-a70a-d43a61c3c045"
      },
      "execution_count": 41,
      "outputs": [
        {
          "output_type": "execute_result",
          "data": {
            "text/plain": [
              "[{'R&D Spending': 165349.2,\n",
              "  'Administration': 136897.8,\n",
              "  'Marketing Spend': 471784.1,\n",
              "  'State': 'New York',\n",
              "  'Profit': 192261.83},\n",
              " {'R&D Spending': 153441.51,\n",
              "  'Administration': 101145.55,\n",
              "  'Marketing Spend': 407934.54,\n",
              "  'State': 'Florida',\n",
              "  'Profit': 191050.39},\n",
              " {'R&D Spending': 162597.7,\n",
              "  'Administration': 151377.59,\n",
              "  'Marketing Spend': 443898.53,\n",
              "  'State': 'California',\n",
              "  'Profit': 191792.06}]"
            ]
          },
          "metadata": {},
          "execution_count": 41
        }
      ]
    },
    {
      "cell_type": "markdown",
      "source": [
        "### Info()"
      ],
      "metadata": {
        "id": "t_2V97ZLgdEo"
      }
    },
    {
      "cell_type": "code",
      "source": [
        "dg.info()"
      ],
      "metadata": {
        "colab": {
          "base_uri": "https://localhost:8080/"
        },
        "id": "qIM_y9ZBgfNV",
        "outputId": "cbf6ba8d-d0b1-4ea1-a409-f0204c0b7039"
      },
      "execution_count": 42,
      "outputs": [
        {
          "output_type": "stream",
          "name": "stdout",
          "text": [
            "DataGrid (on disk)\n",
            "    Name   : startups\n",
            "    Rows   : 5\n",
            "    Columns: 5\n",
            "#   Column                Non-Null Count DataGrid Type       \n",
            "--- -------------------- --------------- --------------------\n",
            "1   R&D Spending                       5 FLOAT               \n",
            "2   Administration                     5 FLOAT               \n",
            "3   Marketing Spend                    5 FLOAT               \n",
            "4   State                              5 TEXT                \n",
            "5   Profit                             5 FLOAT               \n"
          ]
        }
      ]
    },
    {
      "cell_type": "markdown",
      "source": [
        "### Get columns"
      ],
      "metadata": {
        "id": "fWQxj5W-hAj7"
      }
    },
    {
      "cell_type": "code",
      "source": [
        "dg.get_columns()"
      ],
      "metadata": {
        "colab": {
          "base_uri": "https://localhost:8080/"
        },
        "id": "DxXlYy_ThACh",
        "outputId": "45a5b386-0b39-4d77-cb06-9505c1ab2ca2"
      },
      "execution_count": 43,
      "outputs": [
        {
          "output_type": "execute_result",
          "data": {
            "text/plain": [
              "['R&D Spending', 'Administration', 'Marketing Spend', 'State', 'Profit']"
            ]
          },
          "metadata": {},
          "execution_count": 43
        }
      ]
    },
    {
      "cell_type": "markdown",
      "source": [
        "# Visualizing DataGrid on Kangas UI"
      ],
      "metadata": {
        "id": "UKDnRnUFMXa1"
      }
    },
    {
      "cell_type": "code",
      "source": [
        "dg.show()"
      ],
      "metadata": {
        "colab": {
          "base_uri": "https://localhost:8080/",
          "height": 771
        },
        "id": "oZv45EuI2cSM",
        "outputId": "1fe5c920-5be9-4d6d-ea45-d69ecc02e74a"
      },
      "execution_count": 44,
      "outputs": [
        {
          "output_type": "display_data",
          "data": {
            "text/plain": [
              "<IPython.core.display.Javascript object>"
            ],
            "application/javascript": [
              "\n",
              "(async ()=>{\n",
              "    fm = document.createElement('iframe');\n",
              "    fm.src = (await google.colab.kernel.proxyPort(4000)) + '?datagrid=startups.datagrid';\n",
              "    fm.width = '100%';\n",
              "    fm.height = '750px';\n",
              "    fm.frameBorder = 0;\n",
              "    document.body.append(fm);\n",
              "    window.addEventListener(\"message\", async (e) => {\n",
              "        const { type, targetId } = e.data;\n",
              "        if (type === 'metadata') {\n",
              "            const result = await google.colab.kernel.invokeFunction(\n",
              "                '_py_fetch_metadata',\n",
              "                [e.data.dgid, e.data.assetId],\n",
              "                {});\n",
              "            const message = JSON.parse(result.data?.['text/plain'].slice(1, -1));\n",
              "            message['messageType'] = 'metadata';\n",
              "            message['targetId'] = targetId;\n",
              "            fm.contentWindow.postMessage(message, \"*\");\n",
              "        } else if (type === 'asset') {\n",
              "            const result = await google.colab.kernel.invokeFunction(\n",
              "                '_py_fetch_asset',\n",
              "                [e.data.dgid, e.data.assetId],\n",
              "                {});\n",
              "            const srcString = result.data?.['text/plain'].slice(2, -1);\n",
              "            const message = {\n",
              "                src: srcString,\n",
              "                messageType: 'asset',\n",
              "                targetId\n",
              "            };\n",
              "            fm.contentWindow.postMessage(message, \"*\");\n",
              "        } else if (type === 'histogram') {\n",
              "            const { dgid, groupBy, where, columnName, columnValue, where_description, computed_columns, whereExpr } = e.data\n",
              "            const result = await google.colab.kernel.invokeFunction(\n",
              "                '_py_fetch_histogram',\n",
              "                [dgid, groupBy, where, columnName, columnValue, where_description, computed_columns, whereExpr],\n",
              "                {}\n",
              "            )\n",
              "            const message = {\n",
              "                raw: result.data?.['text/plain'],\n",
              "                messageType: 'histogram',\n",
              "                targetId\n",
              "            };\n",
              "            fm.contentWindow.postMessage(message, \"*\");\n",
              "        } else if (type === 'category') {\n",
              "            const { dgid, groupBy, where, columnName, columnValue, where_description, computed_columns, whereExpr } = e.data\n",
              "            const result = await google.colab.kernel.invokeFunction(\n",
              "                '_py_fetch_category',\n",
              "                [dgid, groupBy, where, columnName, columnValue, where_description, computed_columns, whereExpr],\n",
              "                {}\n",
              "            )\n",
              "            const message = {\n",
              "                raw: result.data?.['text/plain'],\n",
              "                messageType: 'category',\n",
              "                targetId\n",
              "            };\n",
              "            fm.contentWindow.postMessage(message, \"*\");\n",
              "        }\n",
              "\n",
              "    }, false);\n",
              "})();\n"
            ]
          },
          "metadata": {}
        }
      ]
    },
    {
      "cell_type": "markdown",
      "source": [
        "\n",
        "# Kangas UI(IFrame)\n",
        "\n",
        "![Kangas UI](https://drive.google.com/uc?export=view&id=1kK0d_y42cW450tXWDfosQOuZtuyKabDx)\n",
        "\n",
        "\n",
        "\n"
      ],
      "metadata": {
        "id": "6s53RDZwZ-OQ"
      }
    },
    {
      "cell_type": "code",
      "source": [],
      "metadata": {
        "id": "BOQCzYJmfQUR"
      },
      "execution_count": null,
      "outputs": []
    }
  ]
}